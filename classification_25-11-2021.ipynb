{
 "cells": [
  {
   "cell_type": "code",
   "execution_count": null,
   "id": "48f00466-8883-4079-9344-e56c595bfd3f",
   "metadata": {},
   "outputs": [],
   "source": [
    "import tensorflow as tf\n",
    "from tensorflow import keras\n",
    "import numpy as np\n",
    "import pathlib\n",
    "import os\n",
    "import cv2\n",
    "import PIL\n",
    "import PIL.Image\n",
    "import time\n",
    "import datetime\n",
    "\n",
    "import matplotlib.pyplot as plt\n",
    "print(tf.__version__)\n",
    "import tensorboard\n",
    "tensorboard.__version__"
   ]
  },
  {
   "cell_type": "code",
   "execution_count": null,
   "id": "fb8fafca-09c3-437e-af3d-8b6a8e388b3a",
   "metadata": {},
   "outputs": [],
   "source": [
    "sess = tf.compat.v1.Session(config=tf.compat.v1.ConfigProto(log_device_placement=True))\n",
    "sys_details = tf.sysconfig.get_build_info()\n",
    "cuda_version = sys_details[\"cuda_version\"]\n",
    "print(cuda_version)\n",
    "cuda_version = sys_details[\"cudnn_version\"]\n",
    "print(cuda_version)\n",
    "tf.config.list_physical_devices(device_type='GPU')"
   ]
  },
  {
   "cell_type": "code",
   "execution_count": null,
   "id": "a3447196-37a2-4aef-8628-cc9c9260a605",
   "metadata": {},
   "outputs": [],
   "source": [
    "data_dir = \"/media/waqar/Data/PMS/road-only/two-classes/training\"\n",
    "data_dir = pathlib.Path(data_dir)\n",
    "print(\"Training-Directory: \",data_dir)"
   ]
  },
  {
   "cell_type": "code",
   "execution_count": null,
   "id": "cb76e832-1e36-4fc2-8859-d5197a78b100",
   "metadata": {},
   "outputs": [],
   "source": [
    "image_count = len(list(data_dir.glob('*/*.jpg')))\n",
    "print(image_count)\n"
   ]
  },
  {
   "cell_type": "code",
   "execution_count": null,
   "id": "c7a44b2e-74ce-47e1-bafc-88a6d46c31c6",
   "metadata": {},
   "outputs": [],
   "source": [
    "one = list(data_dir.glob('1/*'))\n",
    "print(one[0]);\n",
    "print(len(one));"
   ]
  },
  {
   "cell_type": "code",
   "execution_count": null,
   "id": "59041ef0-bf25-4295-b197-6071cb598312",
   "metadata": {},
   "outputs": [],
   "source": [
    "### To test if the images are present in the dataset and opencv works\n",
    "#temp = cv2.imread(str(one[0]));\n",
    "#cv2.imshow(\"output\",temp);\n",
    "#PIL.Image.open(str(one[0]))"
   ]
  },
  {
   "cell_type": "code",
   "execution_count": null,
   "id": "20336956-d1f0-4c40-90ce-85c258e65152",
   "metadata": {},
   "outputs": [],
   "source": [
    "## create a dataset using keras library function\n",
    "batch_size = 45\n",
    "img_height = 224\n",
    "img_width = 224\n",
    "IMG_SIZE = (img_height,img_width)\n",
    "IMG_SHAPE = IMG_SIZE + (3,)\n",
    "print(IMG_SHAPE)\n",
    "train_dataset = tf.keras.utils.image_dataset_from_directory(\n",
    "  data_dir,\n",
    "  validation_split=0.2,\n",
    "  subset=\"training\",\n",
    "  seed=123,\n",
    "  image_size=(img_height, img_width),\n",
    "  batch_size=batch_size)"
   ]
  },
  {
   "cell_type": "code",
   "execution_count": null,
   "id": "4cee4b26-2726-4ed6-83e2-ac32a975f414",
   "metadata": {},
   "outputs": [],
   "source": [
    "validation_dataset = tf.keras.utils.image_dataset_from_directory(\n",
    "  data_dir,\n",
    "  validation_split=0.2,\n",
    "  subset=\"validation\",\n",
    "  seed=123,\n",
    "  image_size=(img_height, img_width),\n",
    "  batch_size=batch_size)\n"
   ]
  },
  {
   "cell_type": "code",
   "execution_count": null,
   "id": "2a714d2b-69a4-4494-aa57-e6b5c54d9fe3",
   "metadata": {},
   "outputs": [],
   "source": [
    "class_names = train_dataset.class_names\n",
    "print(class_names)\n",
    "\n",
    "class_names_val= validation_dataset.class_names\n",
    "print(class_names_val)\n"
   ]
  },
  {
   "cell_type": "code",
   "execution_count": null,
   "id": "25cd634e-4798-42d3-bbdf-a626a7fe1577",
   "metadata": {},
   "outputs": [],
   "source": [
    "class_names_val = validation_dataset.class_names\n",
    "\n",
    "plt.figure(figsize=(10, 10))\n",
    "for images, labels in validation_dataset.take(1):\n",
    "  for i in range(9):\n",
    "    ax = plt.subplot(3, 3, i + 1)\n",
    "    plt.imshow(images[i].numpy().astype(\"uint8\"))\n",
    "    plt.title(class_names[labels[i]])\n",
    "    plt.axis(\"off\")\n"
   ]
  },
  {
   "cell_type": "code",
   "execution_count": null,
   "id": "d12ccc38-bf00-4b5b-a876-33214d293665",
   "metadata": {},
   "outputs": [],
   "source": [
    "AUTOTUNE = tf.data.AUTOTUNE\n",
    "\n",
    "train_dataset = train_dataset.prefetch(buffer_size=AUTOTUNE)\n",
    "validation_dataset = validation_dataset.prefetch(buffer_size=AUTOTUNE)\n",
    "\n"
   ]
  },
  {
   "cell_type": "code",
   "execution_count": null,
   "id": "50073d27-fd91-4208-87ba-f019bbe227bf",
   "metadata": {},
   "outputs": [],
   "source": [
    "#tf.keras.layers.RandomContrast\n",
    "data_augmentation = tf.keras.Sequential([\n",
    "  tf.keras.layers.RandomFlip('horizontal'),\n",
    "  tf.keras.layers.RandomFlip('vertical'),\n",
    "  tf.keras.layers.RandomRotation(0.1),\n",
    "  tf.keras.layers.RandomRotation(0.3),\n",
    "  tf.keras.layers.RandomZoom(0.1),\n",
    "  tf.keras.layers.RandomContrast(0.1, 0.2),\n",
    "  tf.keras.layers.RandomContrast(0.2),\n",
    "  tf.keras.layers.RandomContrast(0.1),\n",
    "  tf.keras.layers.RandomContrast(0.09),\n",
    "  tf.keras.layers.RandomContrast(0.08)\n",
    "])\n"
   ]
  },
  {
   "cell_type": "code",
   "execution_count": null,
   "id": "af8d8f51-f750-46a1-a01f-a66299820bf5",
   "metadata": {},
   "outputs": [],
   "source": [
    "for image, _ in train_dataset.take(1):\n",
    "  plt.figure(figsize=(10, 10))\n",
    "  first_image = image[0]\n",
    "  for i in range(9):\n",
    "    ax = plt.subplot(3, 3, i + 1)\n",
    "    augmented_image = data_augmentation(tf.expand_dims(first_image, 0))\n",
    "    plt.imshow(augmented_image[0] / 255)\n",
    "    plt.axis('off')\n"
   ]
  },
  {
   "cell_type": "code",
   "execution_count": null,
   "id": "a6ca0cbd-9f62-4b44-90aa-af49a2a37eb0",
   "metadata": {},
   "outputs": [],
   "source": [
    "preprocess_input = tf.keras.applications.mobilenet_v2.preprocess_input\n",
    "rescale = tf.keras.layers.Rescaling(1./127.5, offset=-1)"
   ]
  },
  {
   "cell_type": "code",
   "execution_count": null,
   "id": "853cdae6-3c99-4b8b-bfd4-7160d1db177a",
   "metadata": {},
   "outputs": [],
   "source": [
    "\n",
    "base_model = tf.keras.applications.MobileNetV2(input_shape=IMG_SHAPE,\n",
    "                                               include_top=False,\n",
    "                                               weights='imagenet')\n"
   ]
  },
  {
   "cell_type": "code",
   "execution_count": null,
   "id": "3129d410-803f-475f-9bcb-0930aa3df1c8",
   "metadata": {},
   "outputs": [],
   "source": [
    "image_batch, label_batch = next(iter(train_dataset))\n",
    "feature_batch = base_model(image_batch)\n",
    "print(feature_batch.shape)\n"
   ]
  },
  {
   "cell_type": "code",
   "execution_count": null,
   "id": "b651c407-8d98-4ff6-9a48-578be40bc57f",
   "metadata": {},
   "outputs": [],
   "source": [
    "base_model.trainable = False\n",
    "\n"
   ]
  },
  {
   "cell_type": "code",
   "execution_count": null,
   "id": "c903bc24-4991-440e-bbec-78244907b003",
   "metadata": {},
   "outputs": [],
   "source": [
    "base_model.summary()\n",
    "\n"
   ]
  },
  {
   "cell_type": "code",
   "execution_count": null,
   "id": "205257d9-21ee-4891-b7f7-a84b9f071d11",
   "metadata": {},
   "outputs": [],
   "source": [
    "global_average_layer = tf.keras.layers.GlobalAveragePooling2D()\n",
    "feature_batch_average = global_average_layer(feature_batch)\n",
    "print(feature_batch_average.shape)"
   ]
  },
  {
   "cell_type": "code",
   "execution_count": null,
   "id": "88f06ed6-89e9-4080-97ff-5c876bfaf944",
   "metadata": {},
   "outputs": [],
   "source": [
    "class_number = 2\n",
    "prediction_layer = tf.keras.layers.Dense(class_number)\n",
    "prediction_batch = prediction_layer(feature_batch_average)\n",
    "print(prediction_batch.shape)"
   ]
  },
  {
   "cell_type": "code",
   "execution_count": null,
   "id": "41a726b9-f374-4201-aa01-c2c3dd856e78",
   "metadata": {},
   "outputs": [],
   "source": [
    "inputs = tf.keras.Input(shape=(224,224, 3))\n",
    "x = data_augmentation(inputs)\n",
    "x = preprocess_input(x)\n",
    "x = base_model(x, training=False)\n",
    "x = global_average_layer(x)\n",
    "x = tf.keras.layers.Dropout(0.2)(x)\n",
    "outputs = prediction_layer(x)\n",
    "model = tf.keras.Model(inputs, outputs)"
   ]
  },
  {
   "cell_type": "code",
   "execution_count": null,
   "id": "e3c3f7c3-4cde-4530-b05a-26c9e207ebcb",
   "metadata": {},
   "outputs": [],
   "source": [
    "base_learning_rate = 0.0001\n",
    "model.compile(optimizer=tf.keras.optimizers.Adam(learning_rate=base_learning_rate),\n",
    "              loss=tf.keras.losses.SparseCategoricalCrossentropy(from_logits=True),\n",
    "              metrics=['accuracy'])\n"
   ]
  },
  {
   "cell_type": "code",
   "execution_count": null,
   "id": "90254d14",
   "metadata": {},
   "outputs": [],
   "source": [
    "log_dir = \"logs/fit/\" + datetime.datetime.now().strftime(\"%Y%m%d-%H%M%S\")\n",
    "tensorboard_callback = tf.keras.callbacks.TensorBoard(\n",
    "    log_dir=log_dir,\n",
    "    histogram_freq=1) # Enable histogram computation for every epoch.\n"
   ]
  },
  {
   "cell_type": "code",
   "execution_count": null,
   "id": "bbeca794-bf27-4a48-a487-bcc587ed46c9",
   "metadata": {},
   "outputs": [],
   "source": [
    "model.summary()"
   ]
  },
  {
   "cell_type": "code",
   "execution_count": null,
   "id": "3394a8a8-e49f-4676-b24d-169ae7f08552",
   "metadata": {},
   "outputs": [],
   "source": [
    "len(model.trainable_variables)"
   ]
  },
  {
   "cell_type": "code",
   "execution_count": null,
   "id": "b50a8f17-bff4-470b-ad94-1fac24e96ff9",
   "metadata": {},
   "outputs": [],
   "source": [
    "initial_epochs = 100\n",
    "\n",
    "loss0, accuracy0 = model.evaluate(validation_dataset)\n",
    "print(\"initial loss: {:.2f}\".format(loss0))\n",
    "print(\"initial accuracy: {:.2f}\".format(accuracy0))\n"
   ]
  },
  {
   "cell_type": "code",
   "execution_count": null,
   "id": "e4bf5d7e-6a76-4e8b-b909-88f300eb773a",
   "metadata": {},
   "outputs": [],
   "source": [
    "history = model.fit(train_dataset,\n",
    "                    epochs=initial_epochs,\n",
    "                    validation_data=validation_dataset,\n",
    "                    callbacks=tensorboard_callback)\n"
   ]
  },
  {
   "cell_type": "code",
   "execution_count": null,
   "id": "ca1126c5",
   "metadata": {},
   "outputs": [],
   "source": [
    "%tensorboard --logdir logs/fit"
   ]
  },
  {
   "cell_type": "code",
   "execution_count": null,
   "id": "f0e1ab2e",
   "metadata": {},
   "outputs": [],
   "source": [
    "###!rm -rf ./logs/ \n",
    "\n",
    "#%tensorboard --logdir ./logs"
   ]
  },
  {
   "cell_type": "code",
   "execution_count": null,
   "id": "0e85634e-6359-4d4d-ad65-0ed469808ff6",
   "metadata": {},
   "outputs": [],
   "source": [
    "acc = history.history['accuracy']\n",
    "val_acc = history.history['val_accuracy']\n",
    "\n",
    "loss = history.history['loss']\n",
    "val_loss = history.history['val_loss']\n",
    "\n",
    "plt.figure(figsize=(8, 8))\n",
    "plt.subplot(2, 1, 1)\n",
    "plt.plot(acc, label='Training Accuracy')\n",
    "plt.plot(val_acc, label='Validation Accuracy')\n",
    "plt.legend(loc='lower right')\n",
    "plt.ylabel('Accuracy')\n",
    "plt.ylim([min(plt.ylim()),1])\n",
    "plt.title('Training and Validation Accuracy')\n",
    "\n",
    "plt.subplot(2, 1, 2)\n",
    "plt.plot(loss, label='Training Loss')\n",
    "plt.plot(val_loss, label='Validation Loss')\n",
    "plt.legend(loc='upper right')\n",
    "plt.ylabel('Cross Entropy')\n",
    "plt.ylim([0,1.0])\n",
    "plt.title('Training and Validation Loss')\n",
    "plt.xlabel('epoch')\n",
    "plt.show()\n"
   ]
  },
  {
   "cell_type": "code",
   "execution_count": null,
   "id": "3560ee61-cf73-4c44-a1ee-78b05d28ea22",
   "metadata": {},
   "outputs": [],
   "source": [
    "!mkdir -p pms_model\n",
    "model.save('pms_model/my_model_2_class_45_224_only_road',save_format='h5')\n"
   ]
  },
  {
   "cell_type": "code",
   "execution_count": null,
   "id": "77063dd5-a276-4cea-862b-c87ce3807886",
   "metadata": {},
   "outputs": [],
   "source": [
    "\n"
   ]
  },
  {
   "cell_type": "code",
   "execution_count": null,
   "id": "b91d81ec",
   "metadata": {},
   "outputs": [],
   "source": [
    "model = tf.keras.models.load_model('pms_model/my_model_2_class_45_224_only_road')\n",
    "\n",
    "# Check its architecture\n",
    "model.summary()"
   ]
  },
  {
   "cell_type": "code",
   "execution_count": null,
   "id": "14593c77-d5e4-447b-a7cf-7b5acb864ccb",
   "metadata": {},
   "outputs": [],
   "source": [
    "#Change the variables as per your need\n",
    "test_data_dir = pathlib.Path('/media/waqar/Data/PMS/road-only/two-classes/test')\n",
    "print(test_data_dir)\n",
    "img_height = 224\n",
    "img_width = 224\n",
    "batch_size = 3\n",
    "class_number = 2\n",
    "\n",
    "test_dataset = tf.keras.utils.image_dataset_from_directory(\n",
    "  test_data_dir,\n",
    "  seed=123,\n",
    "  image_size=(img_height, img_width),\n",
    "  batch_size=batch_size)\n",
    "\n",
    "\n",
    "loss, accuracy = model.evaluate(test_dataset)\n",
    "print('Test accuracy :', accuracy)\n",
    "print('Test loss :', loss)"
   ]
  },
  {
   "cell_type": "code",
   "execution_count": null,
   "id": "0fc85984",
   "metadata": {},
   "outputs": [],
   "source": [
    "for image, label in test_dataset:\n",
    "    prediction_batch = model(image)\n",
    "    if(prediction_batch.shape[0] == label.shape[0]):\n",
    "        print(\"true\")\n",
    "        print(tf.math.argmax(prediction_batch, axis=1).numpy())\n"
   ]
  },
  {
   "cell_type": "code",
   "execution_count": null,
   "id": "0ddf631b",
   "metadata": {},
   "outputs": [],
   "source": [
    "count=0\n",
    "for i in range(1,4):\n",
    "    print(i)\n",
    "    count=0\n",
    "    dir = pathlib.Path(data_dir,str(i))\n",
    "    img_path = list(dir.glob('./*.jpg'))\n",
    "    l = len(list(dir.glob('./*.jpg')))\n",
    "    \n",
    "    for x in range(0, l):\n",
    "        #print(str(img_path[x]))\n",
    "        img = tf.keras.utils.load_img(img_path[x], target_size=(img_height, img_width))\n",
    "        img_array = tf.keras.utils.img_to_array(img)\n",
    "        img_array = tf.expand_dims(img_array, 0) # Create a batch\n",
    "     #   img_array = preprocess_input (img_array)\n",
    "        predictions = model.predict(img_array)\n",
    "        score = tf.nn.softmax(predictions[0])\n",
    "        #print(\n",
    "        #    \"This image most likely belongs to {} with a {:.2f} percent confidence.\"\n",
    "        #    .format(class_names[np.argmax(score)], 100 * np.max(score))\n",
    "        #)\n",
    "        #print(int(class_names[np.argmax(score)]))\n",
    "    \n",
    "        if (int(class_names[np.argmax(score)])==i):\n",
    "            count=count+1\n",
    "  \n",
    "        #else:\n",
    "        #    print(int(class_names[np.argmax(score)]))\n",
    "    print(\"No. of class: \",i)\n",
    "    print(\"True positive: \",count)\n",
    "    print(\"Total in class: \",l)"
   ]
  },
  {
   "cell_type": "markdown",
   "id": "0c77a52c",
   "metadata": {},
   "source": [
    "layer_names = [layer.name for layer in model.layers]\n",
    "#layer_names\n",
    "layer_outputs = [layer.output for layer in base_model.layers]\n",
    "layer_outputs\n",
    "\n",
    "feature_map_model = tf.keras.models.Model(inputs=base_model.input, outputs=layer_outputs)\n",
    "#feature_map_model.summary()\n",
    "\n",
    "img_path\n",
    "\n",
    "img = tf.keras.utils.load_img(img_path, target_size=(img_height, img_width))\n",
    "img_array = tf.keras.utils.img_to_array(img)\n",
    "img_array = tf.expand_dims(img_array, 0) # Create a batch\n",
    "print(img_array.shape)\n",
    "preprocess_input = tf.keras.applications.mobilenet_v2.preprocess_input\n",
    "img_array = preprocess_input(img_array)\n",
    "feature_maps = feature_map_model.predict(img_array)\n",
    "for layer_name, feature_map in zip(layer_names, feature_maps):\n",
    "    print(f\"The shape of the {layer_name} is =======>> {feature_map.shape}\")\n",
    "\n",
    "for layer_name, feature_map in zip(layer_names, feature_maps):  \n",
    "    if len(feature_map.shape) == 4:\n",
    "        # Just do this for the convolutional layers, not the fully-connected layers\n",
    "        n_features = feature_map.shape[-1]\n",
    "        print(f\"The number of features for {layer_name} is {n_features}\")\n",
    "        for i in range(n_features):\n",
    "            feature_image = feature_map[0, :, :, i]\n",
    "            plt.figure()\n",
    "            plt.title(f\"Feature map of {layer_name} #{i}\")\n",
    "            plt.imshow(feature_image)\n",
    "\n"
   ]
  },
  {
   "cell_type": "code",
   "execution_count": null,
   "id": "d6eb4c16",
   "metadata": {},
   "outputs": [],
   "source": []
  }
 ],
 "metadata": {
  "kernelspec": {
   "display_name": "Python 3 (ipykernel)",
   "language": "python",
   "name": "python3"
  },
  "language_info": {
   "codemirror_mode": {
    "name": "ipython",
    "version": 3
   },
   "file_extension": ".py",
   "mimetype": "text/x-python",
   "name": "python",
   "nbconvert_exporter": "python",
   "pygments_lexer": "ipython3",
   "version": "3.8.10"
  }
 },
 "nbformat": 4,
 "nbformat_minor": 5
}
